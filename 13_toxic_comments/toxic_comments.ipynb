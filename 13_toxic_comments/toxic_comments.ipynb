{
 "cells": [
  {
   "cell_type": "markdown",
   "metadata": {},
   "source": [
    "## 1. Подготовка"
   ]
  },
  {
   "cell_type": "code",
   "execution_count": 1,
   "metadata": {},
   "outputs": [],
   "source": [
    "import pandas as pd\n",
    "import numpy as np\n",
    "import re\n",
    "import matplotlib.pyplot as plt\n",
    "from tqdm import notebook, tqdm\n",
    "import datetime as dt\n",
    "\n",
    "import nltk\n",
    "from nltk.corpus import stopwords as nltk_stopwords\n",
    "from nltk.corpus import wordnet\n",
    "\n",
    "from sklearn.model_selection import train_test_split, KFold, cross_val_score, ParameterGrid\n",
    "from sklearn.feature_extraction.text import TfidfVectorizer\n",
    "from sklearn.utils import shuffle\n",
    "from sklearn.dummy import DummyClassifier\n",
    "from sklearn.linear_model import LogisticRegression, SGDClassifier, RidgeClassifier\n",
    "from sklearn.tree import DecisionTreeClassifier\n",
    "from sklearn.metrics import f1_score, confusion_matrix"
   ]
  },
  {
   "cell_type": "code",
   "execution_count": 2,
   "metadata": {},
   "outputs": [
    {
     "name": "stderr",
     "output_type": "stream",
     "text": [
      "C:\\ProgramData\\Anaconda3\\lib\\site-packages\\tqdm\\std.py:648: FutureWarning: The Panel class is removed from pandas. Accessing it from the top-level namespace will also be removed in the next version\n",
      "  from pandas import Panel\n"
     ]
    }
   ],
   "source": [
    "tqdm.pandas()"
   ]
  },
  {
   "cell_type": "code",
   "execution_count": 3,
   "metadata": {},
   "outputs": [
    {
     "name": "stderr",
     "output_type": "stream",
     "text": [
      "[nltk_data] Downloading package wordnet to\n",
      "[nltk_data]     C:\\Users\\albri\\AppData\\Roaming\\nltk_data...\n",
      "[nltk_data]   Package wordnet is already up-to-date!\n",
      "[nltk_data] Downloading package stopwords to\n",
      "[nltk_data]     C:\\Users\\albri\\AppData\\Roaming\\nltk_data...\n",
      "[nltk_data]   Package stopwords is already up-to-date!\n"
     ]
    },
    {
     "data": {
      "text/plain": [
       "True"
      ]
     },
     "execution_count": 3,
     "metadata": {},
     "output_type": "execute_result"
    }
   ],
   "source": [
    "nltk.download('wordnet')\n",
    "nltk.download('stopwords')"
   ]
  },
  {
   "cell_type": "markdown",
   "metadata": {},
   "source": [
    "### 1.1 Загрузка данных"
   ]
  },
  {
   "cell_type": "code",
   "execution_count": 4,
   "metadata": {},
   "outputs": [
    {
     "name": "stdout",
     "output_type": "stream",
     "text": [
      "<class 'pandas.core.frame.DataFrame'>\n",
      "RangeIndex: 159571 entries, 0 to 159570\n",
      "Data columns (total 2 columns):\n",
      "text     159571 non-null object\n",
      "toxic    159571 non-null int64\n",
      "dtypes: int64(1), object(1)\n",
      "memory usage: 2.4+ MB\n",
      "None\n"
     ]
    },
    {
     "data": {
      "text/html": [
       "<div>\n",
       "<style scoped>\n",
       "    .dataframe tbody tr th:only-of-type {\n",
       "        vertical-align: middle;\n",
       "    }\n",
       "\n",
       "    .dataframe tbody tr th {\n",
       "        vertical-align: top;\n",
       "    }\n",
       "\n",
       "    .dataframe thead th {\n",
       "        text-align: right;\n",
       "    }\n",
       "</style>\n",
       "<table border=\"1\" class=\"dataframe\">\n",
       "  <thead>\n",
       "    <tr style=\"text-align: right;\">\n",
       "      <th></th>\n",
       "      <th>text</th>\n",
       "      <th>toxic</th>\n",
       "    </tr>\n",
       "  </thead>\n",
       "  <tbody>\n",
       "    <tr>\n",
       "      <td>0</td>\n",
       "      <td>Explanation\\nWhy the edits made under my usern...</td>\n",
       "      <td>0</td>\n",
       "    </tr>\n",
       "    <tr>\n",
       "      <td>1</td>\n",
       "      <td>D'aww! He matches this background colour I'm s...</td>\n",
       "      <td>0</td>\n",
       "    </tr>\n",
       "    <tr>\n",
       "      <td>2</td>\n",
       "      <td>Hey man, I'm really not trying to edit war. It...</td>\n",
       "      <td>0</td>\n",
       "    </tr>\n",
       "    <tr>\n",
       "      <td>3</td>\n",
       "      <td>\"\\nMore\\nI can't make any real suggestions on ...</td>\n",
       "      <td>0</td>\n",
       "    </tr>\n",
       "    <tr>\n",
       "      <td>4</td>\n",
       "      <td>You, sir, are my hero. Any chance you remember...</td>\n",
       "      <td>0</td>\n",
       "    </tr>\n",
       "    <tr>\n",
       "      <td>...</td>\n",
       "      <td>...</td>\n",
       "      <td>...</td>\n",
       "    </tr>\n",
       "    <tr>\n",
       "      <td>159566</td>\n",
       "      <td>\":::::And for the second time of asking, when ...</td>\n",
       "      <td>0</td>\n",
       "    </tr>\n",
       "    <tr>\n",
       "      <td>159567</td>\n",
       "      <td>You should be ashamed of yourself \\n\\nThat is ...</td>\n",
       "      <td>0</td>\n",
       "    </tr>\n",
       "    <tr>\n",
       "      <td>159568</td>\n",
       "      <td>Spitzer \\n\\nUmm, theres no actual article for ...</td>\n",
       "      <td>0</td>\n",
       "    </tr>\n",
       "    <tr>\n",
       "      <td>159569</td>\n",
       "      <td>And it looks like it was actually you who put ...</td>\n",
       "      <td>0</td>\n",
       "    </tr>\n",
       "    <tr>\n",
       "      <td>159570</td>\n",
       "      <td>\"\\nAnd ... I really don't think you understand...</td>\n",
       "      <td>0</td>\n",
       "    </tr>\n",
       "  </tbody>\n",
       "</table>\n",
       "<p>159571 rows × 2 columns</p>\n",
       "</div>"
      ],
      "text/plain": [
       "                                                     text  toxic\n",
       "0       Explanation\\nWhy the edits made under my usern...      0\n",
       "1       D'aww! He matches this background colour I'm s...      0\n",
       "2       Hey man, I'm really not trying to edit war. It...      0\n",
       "3       \"\\nMore\\nI can't make any real suggestions on ...      0\n",
       "4       You, sir, are my hero. Any chance you remember...      0\n",
       "...                                                   ...    ...\n",
       "159566  \":::::And for the second time of asking, when ...      0\n",
       "159567  You should be ashamed of yourself \\n\\nThat is ...      0\n",
       "159568  Spitzer \\n\\nUmm, theres no actual article for ...      0\n",
       "159569  And it looks like it was actually you who put ...      0\n",
       "159570  \"\\nAnd ... I really don't think you understand...      0\n",
       "\n",
       "[159571 rows x 2 columns]"
      ]
     },
     "execution_count": 4,
     "metadata": {},
     "output_type": "execute_result"
    }
   ],
   "source": [
    "comments = pd.read_csv('datasets/toxic_comments.csv')\n",
    "print(comments.info())\n",
    "comments"
   ]
  },
  {
   "cell_type": "markdown",
   "metadata": {},
   "source": [
    "Датасет содержит комментарии на английском языке. Пропуски отсутствуют."
   ]
  },
  {
   "cell_type": "markdown",
   "metadata": {},
   "source": [
    "### 1.2 Обзор данных"
   ]
  },
  {
   "cell_type": "markdown",
   "metadata": {},
   "source": [
    "Проверим наличие дубликатов"
   ]
  },
  {
   "cell_type": "code",
   "execution_count": 5,
   "metadata": {},
   "outputs": [
    {
     "name": "stdout",
     "output_type": "stream",
     "text": [
      "\n",
      "Дубликаты: 0\n"
     ]
    }
   ],
   "source": [
    "print('\\nДубликаты:', comments.duplicated().sum())"
   ]
  },
  {
   "cell_type": "markdown",
   "metadata": {},
   "source": [
    "Дубликаты отсутствуют. Проверим распределение целевого признака"
   ]
  },
  {
   "cell_type": "code",
   "execution_count": 6,
   "metadata": {},
   "outputs": [
    {
     "data": {
      "text/plain": [
       "0    143346\n",
       "1     16225\n",
       "Name: toxic, dtype: int64"
      ]
     },
     "execution_count": 6,
     "metadata": {},
     "output_type": "execute_result"
    }
   ],
   "source": [
    "comments['toxic'].value_counts()"
   ]
  },
  {
   "cell_type": "markdown",
   "metadata": {},
   "source": [
    "Токсичных комментариев в 9 раз меньше, чем обычных. Чтобы модель научилась адекватно опредлять токсичные комментарии, в ходе обучения нужно будет справиться с этим дисбалансом."
   ]
  },
  {
   "cell_type": "markdown",
   "metadata": {},
   "source": [
    "Переведем комментарии в нижний регистр"
   ]
  },
  {
   "cell_type": "code",
   "execution_count": 7,
   "metadata": {},
   "outputs": [
    {
     "data": {
      "text/html": [
       "<div>\n",
       "<style scoped>\n",
       "    .dataframe tbody tr th:only-of-type {\n",
       "        vertical-align: middle;\n",
       "    }\n",
       "\n",
       "    .dataframe tbody tr th {\n",
       "        vertical-align: top;\n",
       "    }\n",
       "\n",
       "    .dataframe thead th {\n",
       "        text-align: right;\n",
       "    }\n",
       "</style>\n",
       "<table border=\"1\" class=\"dataframe\">\n",
       "  <thead>\n",
       "    <tr style=\"text-align: right;\">\n",
       "      <th></th>\n",
       "      <th>text</th>\n",
       "      <th>toxic</th>\n",
       "    </tr>\n",
       "  </thead>\n",
       "  <tbody>\n",
       "    <tr>\n",
       "      <td>0</td>\n",
       "      <td>explanation\\nwhy the edits made under my usern...</td>\n",
       "      <td>0</td>\n",
       "    </tr>\n",
       "    <tr>\n",
       "      <td>1</td>\n",
       "      <td>d'aww! he matches this background colour i'm s...</td>\n",
       "      <td>0</td>\n",
       "    </tr>\n",
       "    <tr>\n",
       "      <td>2</td>\n",
       "      <td>hey man, i'm really not trying to edit war. it...</td>\n",
       "      <td>0</td>\n",
       "    </tr>\n",
       "    <tr>\n",
       "      <td>3</td>\n",
       "      <td>\"\\nmore\\ni can't make any real suggestions on ...</td>\n",
       "      <td>0</td>\n",
       "    </tr>\n",
       "    <tr>\n",
       "      <td>4</td>\n",
       "      <td>you, sir, are my hero. any chance you remember...</td>\n",
       "      <td>0</td>\n",
       "    </tr>\n",
       "    <tr>\n",
       "      <td>...</td>\n",
       "      <td>...</td>\n",
       "      <td>...</td>\n",
       "    </tr>\n",
       "    <tr>\n",
       "      <td>159566</td>\n",
       "      <td>\":::::and for the second time of asking, when ...</td>\n",
       "      <td>0</td>\n",
       "    </tr>\n",
       "    <tr>\n",
       "      <td>159567</td>\n",
       "      <td>you should be ashamed of yourself \\n\\nthat is ...</td>\n",
       "      <td>0</td>\n",
       "    </tr>\n",
       "    <tr>\n",
       "      <td>159568</td>\n",
       "      <td>spitzer \\n\\numm, theres no actual article for ...</td>\n",
       "      <td>0</td>\n",
       "    </tr>\n",
       "    <tr>\n",
       "      <td>159569</td>\n",
       "      <td>and it looks like it was actually you who put ...</td>\n",
       "      <td>0</td>\n",
       "    </tr>\n",
       "    <tr>\n",
       "      <td>159570</td>\n",
       "      <td>\"\\nand ... i really don't think you understand...</td>\n",
       "      <td>0</td>\n",
       "    </tr>\n",
       "  </tbody>\n",
       "</table>\n",
       "<p>159571 rows × 2 columns</p>\n",
       "</div>"
      ],
      "text/plain": [
       "                                                     text  toxic\n",
       "0       explanation\\nwhy the edits made under my usern...      0\n",
       "1       d'aww! he matches this background colour i'm s...      0\n",
       "2       hey man, i'm really not trying to edit war. it...      0\n",
       "3       \"\\nmore\\ni can't make any real suggestions on ...      0\n",
       "4       you, sir, are my hero. any chance you remember...      0\n",
       "...                                                   ...    ...\n",
       "159566  \":::::and for the second time of asking, when ...      0\n",
       "159567  you should be ashamed of yourself \\n\\nthat is ...      0\n",
       "159568  spitzer \\n\\numm, theres no actual article for ...      0\n",
       "159569  and it looks like it was actually you who put ...      0\n",
       "159570  \"\\nand ... i really don't think you understand...      0\n",
       "\n",
       "[159571 rows x 2 columns]"
      ]
     },
     "execution_count": 7,
     "metadata": {},
     "output_type": "execute_result"
    }
   ],
   "source": [
    "comments['text'] = comments['text'].str.lower()\n",
    "comments"
   ]
  },
  {
   "cell_type": "markdown",
   "metadata": {},
   "source": [
    "### 1.3 Подготовка комментариев"
   ]
  },
  {
   "cell_type": "markdown",
   "metadata": {},
   "source": [
    "Очистим текст от чисел и знаков препинания с помощью регулярных выражений"
   ]
  },
  {
   "cell_type": "code",
   "execution_count": 8,
   "metadata": {},
   "outputs": [
    {
     "data": {
      "text/html": [
       "<div>\n",
       "<style scoped>\n",
       "    .dataframe tbody tr th:only-of-type {\n",
       "        vertical-align: middle;\n",
       "    }\n",
       "\n",
       "    .dataframe tbody tr th {\n",
       "        vertical-align: top;\n",
       "    }\n",
       "\n",
       "    .dataframe thead th {\n",
       "        text-align: right;\n",
       "    }\n",
       "</style>\n",
       "<table border=\"1\" class=\"dataframe\">\n",
       "  <thead>\n",
       "    <tr style=\"text-align: right;\">\n",
       "      <th></th>\n",
       "      <th>text</th>\n",
       "      <th>toxic</th>\n",
       "      <th>cleared</th>\n",
       "    </tr>\n",
       "  </thead>\n",
       "  <tbody>\n",
       "    <tr>\n",
       "      <td>0</td>\n",
       "      <td>explanation\\nwhy the edits made under my usern...</td>\n",
       "      <td>0</td>\n",
       "      <td>explanation why the edits made under my userna...</td>\n",
       "    </tr>\n",
       "    <tr>\n",
       "      <td>1</td>\n",
       "      <td>d'aww! he matches this background colour i'm s...</td>\n",
       "      <td>0</td>\n",
       "      <td>d'aww he matches this background colour i'm se...</td>\n",
       "    </tr>\n",
       "    <tr>\n",
       "      <td>2</td>\n",
       "      <td>hey man, i'm really not trying to edit war. it...</td>\n",
       "      <td>0</td>\n",
       "      <td>hey man i'm really not trying to edit war it's...</td>\n",
       "    </tr>\n",
       "    <tr>\n",
       "      <td>3</td>\n",
       "      <td>\"\\nmore\\ni can't make any real suggestions on ...</td>\n",
       "      <td>0</td>\n",
       "      <td>more i can't make any real suggestions on impr...</td>\n",
       "    </tr>\n",
       "    <tr>\n",
       "      <td>4</td>\n",
       "      <td>you, sir, are my hero. any chance you remember...</td>\n",
       "      <td>0</td>\n",
       "      <td>you sir are my hero any chance you remember wh...</td>\n",
       "    </tr>\n",
       "    <tr>\n",
       "      <td>...</td>\n",
       "      <td>...</td>\n",
       "      <td>...</td>\n",
       "      <td>...</td>\n",
       "    </tr>\n",
       "    <tr>\n",
       "      <td>159566</td>\n",
       "      <td>\":::::and for the second time of asking, when ...</td>\n",
       "      <td>0</td>\n",
       "      <td>and for the second time of asking when your vi...</td>\n",
       "    </tr>\n",
       "    <tr>\n",
       "      <td>159567</td>\n",
       "      <td>you should be ashamed of yourself \\n\\nthat is ...</td>\n",
       "      <td>0</td>\n",
       "      <td>you should be ashamed of yourself that is a ho...</td>\n",
       "    </tr>\n",
       "    <tr>\n",
       "      <td>159568</td>\n",
       "      <td>spitzer \\n\\numm, theres no actual article for ...</td>\n",
       "      <td>0</td>\n",
       "      <td>spitzer umm theres no actual article for prost...</td>\n",
       "    </tr>\n",
       "    <tr>\n",
       "      <td>159569</td>\n",
       "      <td>and it looks like it was actually you who put ...</td>\n",
       "      <td>0</td>\n",
       "      <td>and it looks like it was actually you who put ...</td>\n",
       "    </tr>\n",
       "    <tr>\n",
       "      <td>159570</td>\n",
       "      <td>\"\\nand ... i really don't think you understand...</td>\n",
       "      <td>0</td>\n",
       "      <td>and i really don't think you understand i came...</td>\n",
       "    </tr>\n",
       "  </tbody>\n",
       "</table>\n",
       "<p>159571 rows × 3 columns</p>\n",
       "</div>"
      ],
      "text/plain": [
       "                                                     text  toxic  \\\n",
       "0       explanation\\nwhy the edits made under my usern...      0   \n",
       "1       d'aww! he matches this background colour i'm s...      0   \n",
       "2       hey man, i'm really not trying to edit war. it...      0   \n",
       "3       \"\\nmore\\ni can't make any real suggestions on ...      0   \n",
       "4       you, sir, are my hero. any chance you remember...      0   \n",
       "...                                                   ...    ...   \n",
       "159566  \":::::and for the second time of asking, when ...      0   \n",
       "159567  you should be ashamed of yourself \\n\\nthat is ...      0   \n",
       "159568  spitzer \\n\\numm, theres no actual article for ...      0   \n",
       "159569  and it looks like it was actually you who put ...      0   \n",
       "159570  \"\\nand ... i really don't think you understand...      0   \n",
       "\n",
       "                                                  cleared  \n",
       "0       explanation why the edits made under my userna...  \n",
       "1       d'aww he matches this background colour i'm se...  \n",
       "2       hey man i'm really not trying to edit war it's...  \n",
       "3       more i can't make any real suggestions on impr...  \n",
       "4       you sir are my hero any chance you remember wh...  \n",
       "...                                                   ...  \n",
       "159566  and for the second time of asking when your vi...  \n",
       "159567  you should be ashamed of yourself that is a ho...  \n",
       "159568  spitzer umm theres no actual article for prost...  \n",
       "159569  and it looks like it was actually you who put ...  \n",
       "159570  and i really don't think you understand i came...  \n",
       "\n",
       "[159571 rows x 3 columns]"
      ]
     },
     "execution_count": 8,
     "metadata": {},
     "output_type": "execute_result"
    }
   ],
   "source": [
    "comments['cleared'] = comments['text'].apply(lambda x: ' '.join(re.sub(r'[^a-z \\']', ' ', x).split()))\n",
    "comments"
   ]
  },
  {
   "cell_type": "markdown",
   "metadata": {},
   "source": [
    "Лемматизируем комментарии с помощью библиотеки nltk"
   ]
  },
  {
   "cell_type": "code",
   "execution_count": 9,
   "metadata": {},
   "outputs": [
    {
     "name": "stderr",
     "output_type": "stream",
     "text": [
      "100%|████████████████████████████████████████████████████████████████████████| 159571/159571 [01:46<00:00, 1497.91it/s]\n"
     ]
    },
    {
     "name": "stdout",
     "output_type": "stream",
     "text": [
      "Wall time: 1min 46s\n"
     ]
    },
    {
     "data": {
      "text/html": [
       "<div>\n",
       "<style scoped>\n",
       "    .dataframe tbody tr th:only-of-type {\n",
       "        vertical-align: middle;\n",
       "    }\n",
       "\n",
       "    .dataframe tbody tr th {\n",
       "        vertical-align: top;\n",
       "    }\n",
       "\n",
       "    .dataframe thead th {\n",
       "        text-align: right;\n",
       "    }\n",
       "</style>\n",
       "<table border=\"1\" class=\"dataframe\">\n",
       "  <thead>\n",
       "    <tr style=\"text-align: right;\">\n",
       "      <th></th>\n",
       "      <th>text</th>\n",
       "      <th>toxic</th>\n",
       "      <th>cleared</th>\n",
       "      <th>lemmatized</th>\n",
       "    </tr>\n",
       "  </thead>\n",
       "  <tbody>\n",
       "    <tr>\n",
       "      <td>0</td>\n",
       "      <td>explanation\\nwhy the edits made under my usern...</td>\n",
       "      <td>0</td>\n",
       "      <td>explanation why the edits made under my userna...</td>\n",
       "      <td>explanation why the edits made under my userna...</td>\n",
       "    </tr>\n",
       "    <tr>\n",
       "      <td>1</td>\n",
       "      <td>d'aww! he matches this background colour i'm s...</td>\n",
       "      <td>0</td>\n",
       "      <td>d'aww he matches this background colour i'm se...</td>\n",
       "      <td>d'aww he match this background colour i 'm see...</td>\n",
       "    </tr>\n",
       "    <tr>\n",
       "      <td>2</td>\n",
       "      <td>hey man, i'm really not trying to edit war. it...</td>\n",
       "      <td>0</td>\n",
       "      <td>hey man i'm really not trying to edit war it's...</td>\n",
       "      <td>hey man i 'm really not trying to edit war it ...</td>\n",
       "    </tr>\n",
       "    <tr>\n",
       "      <td>3</td>\n",
       "      <td>\"\\nmore\\ni can't make any real suggestions on ...</td>\n",
       "      <td>0</td>\n",
       "      <td>more i can't make any real suggestions on impr...</td>\n",
       "      <td>more i ca n't make any real suggestion on impr...</td>\n",
       "    </tr>\n",
       "    <tr>\n",
       "      <td>4</td>\n",
       "      <td>you, sir, are my hero. any chance you remember...</td>\n",
       "      <td>0</td>\n",
       "      <td>you sir are my hero any chance you remember wh...</td>\n",
       "      <td>you sir are my hero any chance you remember wh...</td>\n",
       "    </tr>\n",
       "    <tr>\n",
       "      <td>...</td>\n",
       "      <td>...</td>\n",
       "      <td>...</td>\n",
       "      <td>...</td>\n",
       "      <td>...</td>\n",
       "    </tr>\n",
       "    <tr>\n",
       "      <td>159566</td>\n",
       "      <td>\":::::and for the second time of asking, when ...</td>\n",
       "      <td>0</td>\n",
       "      <td>and for the second time of asking when your vi...</td>\n",
       "      <td>and for the second time of asking when your vi...</td>\n",
       "    </tr>\n",
       "    <tr>\n",
       "      <td>159567</td>\n",
       "      <td>you should be ashamed of yourself \\n\\nthat is ...</td>\n",
       "      <td>0</td>\n",
       "      <td>you should be ashamed of yourself that is a ho...</td>\n",
       "      <td>you should be ashamed of yourself that is a ho...</td>\n",
       "    </tr>\n",
       "    <tr>\n",
       "      <td>159568</td>\n",
       "      <td>spitzer \\n\\numm, theres no actual article for ...</td>\n",
       "      <td>0</td>\n",
       "      <td>spitzer umm theres no actual article for prost...</td>\n",
       "      <td>spitzer umm there no actual article for prosti...</td>\n",
       "    </tr>\n",
       "    <tr>\n",
       "      <td>159569</td>\n",
       "      <td>and it looks like it was actually you who put ...</td>\n",
       "      <td>0</td>\n",
       "      <td>and it looks like it was actually you who put ...</td>\n",
       "      <td>and it look like it wa actually you who put on...</td>\n",
       "    </tr>\n",
       "    <tr>\n",
       "      <td>159570</td>\n",
       "      <td>\"\\nand ... i really don't think you understand...</td>\n",
       "      <td>0</td>\n",
       "      <td>and i really don't think you understand i came...</td>\n",
       "      <td>and i really do n't think you understand i cam...</td>\n",
       "    </tr>\n",
       "  </tbody>\n",
       "</table>\n",
       "<p>159571 rows × 4 columns</p>\n",
       "</div>"
      ],
      "text/plain": [
       "                                                     text  toxic  \\\n",
       "0       explanation\\nwhy the edits made under my usern...      0   \n",
       "1       d'aww! he matches this background colour i'm s...      0   \n",
       "2       hey man, i'm really not trying to edit war. it...      0   \n",
       "3       \"\\nmore\\ni can't make any real suggestions on ...      0   \n",
       "4       you, sir, are my hero. any chance you remember...      0   \n",
       "...                                                   ...    ...   \n",
       "159566  \":::::and for the second time of asking, when ...      0   \n",
       "159567  you should be ashamed of yourself \\n\\nthat is ...      0   \n",
       "159568  spitzer \\n\\numm, theres no actual article for ...      0   \n",
       "159569  and it looks like it was actually you who put ...      0   \n",
       "159570  \"\\nand ... i really don't think you understand...      0   \n",
       "\n",
       "                                                  cleared  \\\n",
       "0       explanation why the edits made under my userna...   \n",
       "1       d'aww he matches this background colour i'm se...   \n",
       "2       hey man i'm really not trying to edit war it's...   \n",
       "3       more i can't make any real suggestions on impr...   \n",
       "4       you sir are my hero any chance you remember wh...   \n",
       "...                                                   ...   \n",
       "159566  and for the second time of asking when your vi...   \n",
       "159567  you should be ashamed of yourself that is a ho...   \n",
       "159568  spitzer umm theres no actual article for prost...   \n",
       "159569  and it looks like it was actually you who put ...   \n",
       "159570  and i really don't think you understand i came...   \n",
       "\n",
       "                                               lemmatized  \n",
       "0       explanation why the edits made under my userna...  \n",
       "1       d'aww he match this background colour i 'm see...  \n",
       "2       hey man i 'm really not trying to edit war it ...  \n",
       "3       more i ca n't make any real suggestion on impr...  \n",
       "4       you sir are my hero any chance you remember wh...  \n",
       "...                                                   ...  \n",
       "159566  and for the second time of asking when your vi...  \n",
       "159567  you should be ashamed of yourself that is a ho...  \n",
       "159568  spitzer umm there no actual article for prosti...  \n",
       "159569  and it look like it wa actually you who put on...  \n",
       "159570  and i really do n't think you understand i cam...  \n",
       "\n",
       "[159571 rows x 4 columns]"
      ]
     },
     "execution_count": 9,
     "metadata": {},
     "output_type": "execute_result"
    }
   ],
   "source": [
    "%%time\n",
    "wnl = nltk.stem.WordNetLemmatizer()\n",
    "comments['lemmatized'] = comments['cleared'].progress_apply(lambda x: ' '.join([wnl.lemmatize(w) \n",
    "                                                                                for w in nltk.word_tokenize(x)]))\n",
    "comments"
   ]
  },
  {
   "cell_type": "markdown",
   "metadata": {},
   "source": [
    "Более качественную лемматизацию можно получить, если в `wnl.lemmatize(w)` учитывать части речи с использованием `pos_tag`, но тогда время обработки комментариев катастрофически увеличивается. Пока обойдемся быстрым алгоритмом."
   ]
  },
  {
   "cell_type": "markdown",
   "metadata": {},
   "source": [
    "### 1.4 Подготовка выборок"
   ]
  },
  {
   "cell_type": "markdown",
   "metadata": {},
   "source": [
    "Выделим тестовую выборку объемом 20% от исходного датасета."
   ]
  },
  {
   "cell_type": "code",
   "execution_count": 10,
   "metadata": {},
   "outputs": [
    {
     "name": "stdout",
     "output_type": "stream",
     "text": [
      "train: (127656, 4)\n",
      "test: (31915, 4)\n"
     ]
    }
   ],
   "source": [
    "data_train, data_test = train_test_split(comments, test_size=0.2, random_state=123)\n",
    "print('train:', data_train.shape)\n",
    "print('test:',  data_test.shape)"
   ]
  },
  {
   "cell_type": "markdown",
   "metadata": {},
   "source": [
    "Для более эффективного подбора модели будем использовать кросс-валидацию в рамках всей обучающей выборки. Но чтобы кросс-валидация была корректной, на каждом шаге модель, формирующая параметры, должна обучаться только на обучающей подвыборке. Это же касается и балансировки: балансироваться должна только обучающая подвыборка. Стандартными функциями кросс-валидации библиотеки sklearn реализовать это не получается.  \n",
    "Введем функцию train_valid_folds, которая подготовит по 5 наборов обучающих и валидационных подвыборок, для формирования признаков будем использовать мешок слов (метод `TfidfVectorizer` библиотеки `sklearn`). Для экономии времении сделаем это один раз для каждого вида балансировки, сохраним получившиеся наборы и в дальнейшем будем обращаться к ним."
   ]
  },
  {
   "cell_type": "code",
   "execution_count": 11,
   "metadata": {},
   "outputs": [],
   "source": [
    "def upsample(features, target):\n",
    "    \n",
    "    counts = target.value_counts()\n",
    "    val_most = counts.index[0]\n",
    "    val_least = counts.index[1]\n",
    "    repeat = int(np.round(counts[0]/counts[1],0))\n",
    "    \n",
    "    target_most = target[target == val_most]\n",
    "    features_most = features[target == val_most]\n",
    "    target_least = target[target == val_least]\n",
    "    features_least = features[target == val_least]\n",
    "    \n",
    "    features_upsampled = pd.concat([features_most] + [features_least] * repeat)\n",
    "    target_upsampled = pd.concat([target_most] + [target_least] * repeat)\n",
    "    \n",
    "    features_upsampled, target_upsampled = shuffle(features_upsampled, target_upsampled, random_state=12345)\n",
    "    return features_upsampled, target_upsampled"
   ]
  },
  {
   "cell_type": "code",
   "execution_count": 12,
   "metadata": {},
   "outputs": [],
   "source": [
    "def downsample(train_features, train_target, valid_features, valid_target, valid_frac=0, n=0):\n",
    "    '''\n",
    "    train_features - \n",
    "    train_target - \n",
    "    valid_features - \n",
    "    valid_target - \n",
    "    valid_frac - требуемое соотношение обучающей и валидационной выборки\n",
    "    n - максимальный суммарный размер обучающией и валидационной выборки\n",
    "    ''' \n",
    "    # расчет имеющегося соотношения признаков\n",
    "    counts = train_target.value_counts()\n",
    "    val_most = counts.index[0]\n",
    "    val_least = counts.index[1]\n",
    "    fraction = counts[1]/counts[0]\n",
    "    \n",
    "    # дополнительно обрезаем выборки (если есть такая необходимость)\n",
    "    if n:\n",
    "        if len(train_target) + len(valid_target) > n:\n",
    "            train_size = int(n*(1-valid_frac)*2/fraction)\n",
    "            print(train_size)\n",
    "            train_target = train_target.sample(n=train_size, random_state=12345)\n",
    "    \n",
    "    # разделение обучающей выборки по целевому признаку\n",
    "    train_target_most = train_target[train_target == val_most]\n",
    "    train_features_most = train_features[train_target == val_most]\n",
    "    train_target_least = train_target[train_target == val_least]\n",
    "    train_features_least = train_features[train_target == val_least]\n",
    "\n",
    "    # downsample обучающей выборки, чтобы сбалансировать признак\n",
    "    train_features_downsampled = pd.concat([train_features_most.sample(frac=fraction, random_state=12345)] \n",
    "                                           + [train_features_least])\n",
    "    train_target_downsampled = pd.concat([train_target_most.sample(frac=fraction, random_state=12345)] \n",
    "                                         + [train_target_least])\n",
    "    train_features_downsampled, train_target_downsampled = shuffle(train_features_downsampled, \n",
    "                                                                   train_target_downsampled, random_state=12345)    \n",
    "    \n",
    "    # обрезка валидационной выборки, чтобы соблюсти соотношение обучающей и валидационной (если есть такая необходимость)\n",
    "    if valid_frac or n:\n",
    "        if not valid_frac:\n",
    "            valid_frac = len(valid_target) / len(train_target)\n",
    "        valid_size = int(valid_frac*len(train_target_downsampled))\n",
    "        valid_features = valid_features.sample(n=valid_size, random_state=12345)\n",
    "        valid_target = valid_target.sample(n=valid_size, random_state=12345)\n",
    "\n",
    "    return train_features_downsampled, train_target_downsampled, valid_features, valid_target"
   ]
  },
  {
   "cell_type": "code",
   "execution_count": 13,
   "metadata": {},
   "outputs": [],
   "source": [
    "stopwords = set(nltk_stopwords.words('english'))\n",
    "count_tf_idf = TfidfVectorizer(stop_words=stopwords)\n",
    "\n",
    "def train_valid_folds(features, target, folds=5, balance=None):\n",
    "\n",
    "    tt = []\n",
    "    tf = []\n",
    "    vt = []\n",
    "    vf = []\n",
    "    kf = KFold(n_splits=folds)\n",
    "    \n",
    "    for train_index, test_index in kf.split(features):\n",
    "        # разбиение на обучающую и валидационную подвыборки\n",
    "        train_corpus = features.iloc[train_index]\n",
    "        valid_corpus = features.iloc[test_index]\n",
    "        train_target = target.iloc[train_index]\n",
    "        valid_target = target.iloc[test_index]\n",
    "\n",
    "        if balance=='upsample':\n",
    "            train_corpus, train_target = upsample(train_corpus, train_target)\n",
    "        if balance=='downsample':\n",
    "            train_corpus, train_target, valid_corpus, valid_target = downsample(train_corpus, train_target, valid_corpus, valid_target)\n",
    "        \n",
    "        # создание признаков обучающей подвыборки\n",
    "        train_features = count_tf_idf.fit_transform(train_corpus.values.astype('U'))\n",
    "        # создание признаков валидационной подвыборки\n",
    "        valid_features = count_tf_idf.transform(valid_corpus.values.astype('U'))\n",
    "\n",
    "        tf.append(train_features)\n",
    "        tt.append(train_target)\n",
    "        vf.append(valid_features)\n",
    "        vt.append(valid_target)\n",
    "\n",
    "    # отображение размерности для проверки\n",
    "    for i in range(folds):\n",
    "        print(i, tf[i].shape, tt[i].shape, vf[i].shape, vt[i].shape)\n",
    "    return tf, tt, vf, vt"
   ]
  },
  {
   "cell_type": "markdown",
   "metadata": {},
   "source": [
    "Исходная (несбалансированная) выборка"
   ]
  },
  {
   "cell_type": "code",
   "execution_count": 14,
   "metadata": {},
   "outputs": [
    {
     "name": "stdout",
     "output_type": "stream",
     "text": [
      "0 (102124, 121661) (102124,) (25532, 121661) (25532,)\n",
      "1 (102125, 122045) (102125,) (25531, 122045) (25531,)\n",
      "2 (102125, 121783) (102125,) (25531, 121783) (25531,)\n",
      "3 (102125, 121707) (102125,) (25531, 121707) (25531,)\n",
      "4 (102125, 122262) (102125,) (25531, 122262) (25531,)\n"
     ]
    }
   ],
   "source": [
    "train_valid = train_valid_folds(data_train['lemmatized'], data_train['toxic'])"
   ]
  },
  {
   "cell_type": "markdown",
   "metadata": {},
   "source": [
    "Увеличенная выборка"
   ]
  },
  {
   "cell_type": "code",
   "execution_count": 15,
   "metadata": {},
   "outputs": [
    {
     "name": "stdout",
     "output_type": "stream",
     "text": [
      "0 (185876, 121661) (185876,) (25532, 121661) (25532,)\n",
      "1 (185941, 122045) (185941,) (25531, 122045) (25531,)\n",
      "2 (185085, 121783) (185085,) (25531, 121783) (25531,)\n",
      "3 (186005, 121707) (186005,) (25531, 121707) (25531,)\n",
      "4 (186021, 122262) (186021,) (25531, 122262) (25531,)\n"
     ]
    }
   ],
   "source": [
    "train_valid_upsampled = train_valid_folds(data_train['lemmatized'], data_train['toxic'], balance='upsample')"
   ]
  },
  {
   "cell_type": "markdown",
   "metadata": {},
   "source": [
    "Уменьшенная выборка"
   ]
  },
  {
   "cell_type": "code",
   "execution_count": 16,
   "metadata": {},
   "outputs": [
    {
     "name": "stdout",
     "output_type": "stream",
     "text": [
      "0 (20938, 44024) (20938,) (25532, 44024) (25532,)\n",
      "1 (20954, 43742) (20954,) (25531, 43742) (25531,)\n",
      "2 (20740, 43332) (20740,) (25531, 43332) (25531,)\n",
      "3 (20970, 42952) (20970,) (25531, 42952) (25531,)\n",
      "4 (20974, 43873) (20974,) (25531, 43873) (25531,)\n"
     ]
    }
   ],
   "source": [
    "train_valid_downsampled = train_valid_folds(data_train['lemmatized'], data_train['toxic'], balance='downsample')"
   ]
  },
  {
   "cell_type": "markdown",
   "metadata": {},
   "source": [
    "Из-за большого дисбаланса тестовые подвыборки очень сильно сократились и стали меньше, чем валидационные. Также значительно уменьшилось кол-во признаков. Получить хороший результат в такой ситуации вряд ли удастся, нужно изменить алгоритм уменьшения выборки. Сейчас проверим как есть, новый алгоритм попробую реализовать после завершения проекта."
   ]
  },
  {
   "cell_type": "markdown",
   "metadata": {},
   "source": [
    "Стандартизацию признаков выполнять не нужно, т.к. tf_idf по определению находится в пределах от 0 до 1"
   ]
  },
  {
   "cell_type": "markdown",
   "metadata": {},
   "source": [
    "## 2. Обучение"
   ]
  },
  {
   "cell_type": "markdown",
   "metadata": {},
   "source": [
    "Заготовка таблицы для сравнения результатов разных моделей"
   ]
  },
  {
   "cell_type": "code",
   "execution_count": 17,
   "metadata": {},
   "outputs": [],
   "source": [
    "result_table = pd.DataFrame()"
   ]
  },
  {
   "cell_type": "markdown",
   "metadata": {},
   "source": [
    "Для подбора моделей введем функцию paramCV, которая будет выполнять кросс-валидацию для набора гиперпараметров, используя ранее подготовленнй набор подвыборок. Для отображения результатов в виде графика или тепловой карты введем функции plot_line и plot_heatmap."
   ]
  },
  {
   "cell_type": "code",
   "execution_count": 18,
   "metadata": {},
   "outputs": [],
   "source": [
    "def plot_line(x, y, labels='', title='', xlabel=''):\n",
    "    '''\n",
    "    Функция выводит графики зависимости выбранных метрик исследуемой модели от значения гиперпараметра\n",
    "    Входные параметры:\n",
    "    - х - значения гиперпараметра\n",
    "    - results - массив результатов\n",
    "    - label - название результата (легенда линии)\n",
    "    - title - название модели (подпись графика)\n",
    "    - xlabel - название изменяемого гиперпараметра (подпись оси Х)\n",
    "    - treshold - пороговое значение (прямая на линия на графике, не обязательный параметр)\n",
    "    '''\n",
    "    fig, ax = plt.subplots(figsize=(10,4))\n",
    "    ax.plot(x, y, marker='.')\n",
    "    ax.grid()\n",
    "    plt.title(title)\n",
    "    plt.xlabel(xlabel)\n",
    "    plt.show()"
   ]
  },
  {
   "cell_type": "code",
   "execution_count": 19,
   "metadata": {},
   "outputs": [],
   "source": [
    "def plot_heatmap(x1, x2, y, title='', label=['','']):\n",
    "    '''\n",
    "    функция выводит график типа \"heatmap\" зависимости качества исследуемой модели от значений двух гиперпараметров\n",
    "    х1 - значения гиперпараметра 1\n",
    "    х2 - значения гиперпараметра 2\n",
    "    y - значение метрики в виде одномерного массива (результат работы функции GridSearchCV.cv_results_['...'])\n",
    "    title - название модели (подпись графика)\n",
    "    label - массив с названиями двух гиперпараметров (подписи осей Х и Y)\n",
    "    '''\n",
    "    ysize = len(x1) if len(x1)<16 else 16\n",
    "    xsize = len(x2) if len(x2)<16 else 16\n",
    "    fig, ax = plt.subplots(figsize=(xsize,ysize))\n",
    "    im = ax.imshow(y, cmap='coolwarm')\n",
    "    plt.title(title)\n",
    "    \n",
    "    cax = fig.add_axes([ax.get_position().x1+0.05, ax.get_position().y0, 0.02, ax.get_position().height])\n",
    "    plt.colorbar(im, cax=cax)\n",
    "\n",
    "    ax.set_xticks(np.arange(len(x2)))\n",
    "    ax.set_yticks(np.arange(-0.5,len(x1)))\n",
    "    ax.set_xticklabels(x2)\n",
    "    ax.set_yticklabels(x1)\n",
    "    ax.set_xlabel(label[1])\n",
    "    ax.set_ylabel(label[0])\n",
    "\n",
    "    for i in range(len(x1)):\n",
    "        for j in range(len(x2)):\n",
    "            text = ax.text(j, i, y[i, j], ha=\"center\", va=\"center\", color=\"k\", fontsize=8)\n",
    "    plt.show()"
   ]
  },
  {
   "cell_type": "code",
   "execution_count": 20,
   "metadata": {},
   "outputs": [],
   "source": [
    "def paramCV(data, model, params={}, name=''):\n",
    "    '''\n",
    "    кастомная кросс-валидация с перебором параметров (аналог GridSearchCV)\n",
    "    '''\n",
    "    # разбор data на набор X и y обучающей и валидационной выборок\n",
    "    tf = data[0]\n",
    "    tt = data[1]\n",
    "    vf = data[2]\n",
    "    vt = data[3] \n",
    "    \n",
    "    res = []\n",
    "    grid = ParameterGrid(params)    \n",
    "    pbar = notebook.tqdm(total=len(grid)*len(tf))\n",
    "    \n",
    "    # перебор сетки параметров\n",
    "    for g in grid:\n",
    "        model.set_params(**g)\n",
    "        cv_res = []\n",
    "        for i in range(len(tf)):\n",
    "            model.fit(tf[i], tt[i])\n",
    "            valid_predicted = model.predict(vf[i])\n",
    "            cv_res.append(f1_score(vt[i], valid_predicted))\n",
    "            pbar.update()\n",
    "        res.append(np.mean(cv_res).round(3))\n",
    "    \n",
    "    # графики\n",
    "    params_values = list(params.values())\n",
    "    params_keys = list(params.keys())\n",
    "    # линия для одного параметра\n",
    "    if len(params_keys)==1:\n",
    "        plot_line(params_values[0], res, title='F1 '+name, xlabel=params_keys[0])\n",
    "    # тепловая карта для двух параметров\n",
    "    elif len(params_keys)==2:\n",
    "        len_p1 = len(params_values[0])\n",
    "        len_p2 = len(params_values[1])\n",
    "        res = np.reshape(res, (len_p1, len_p2))              \n",
    "        plot_heatmap(params_values[0], params_values[1], res, title='F1 '+name, label=params_keys)\n",
    "    elif len(params_keys)>2:\n",
    "        print('grid_hparams: can\\'t plot result')\n",
    "    \n",
    "    # отображение лучшего результата\n",
    "    print('Best F1:', np.max(res))\n",
    "    if len(params_keys) > 0:\n",
    "        best_idx = np.argmax(res)\n",
    "        print('Best params:', grid[best_idx])\n",
    "\n",
    "    # запись лучшего результата в таблицу\n",
    "    if name:\n",
    "        result_table.loc[name,'F1'] = np.max(res)"
   ]
  },
  {
   "cell_type": "markdown",
   "metadata": {},
   "source": [
    "### 2.1 Логистическая регрессия"
   ]
  },
  {
   "cell_type": "markdown",
   "metadata": {},
   "source": [
    "Сначала определимся с решателем, для чего выполним кросс-валидацию на несбалансированной выборке."
   ]
  },
  {
   "cell_type": "code",
   "execution_count": 21,
   "metadata": {},
   "outputs": [
    {
     "data": {
      "application/vnd.jupyter.widget-view+json": {
       "model_id": "584a1d1caa2d4719b91fff7f42728c97",
       "version_major": 2,
       "version_minor": 0
      },
      "text/plain": [
       "HBox(children=(IntProgress(value=0, max=5), HTML(value='')))"
      ]
     },
     "metadata": {},
     "output_type": "display_data"
    },
    {
     "name": "stderr",
     "output_type": "stream",
     "text": [
      "C:\\ProgramData\\Anaconda3\\lib\\site-packages\\sklearn\\linear_model\\logistic.py:947: ConvergenceWarning: lbfgs failed to converge. Increase the number of iterations.\n",
      "  \"of iterations.\", ConvergenceWarning)\n",
      "C:\\ProgramData\\Anaconda3\\lib\\site-packages\\sklearn\\linear_model\\logistic.py:947: ConvergenceWarning: lbfgs failed to converge. Increase the number of iterations.\n",
      "  \"of iterations.\", ConvergenceWarning)\n"
     ]
    },
    {
     "name": "stdout",
     "output_type": "stream",
     "text": [
      "Best F1: 0.725\n",
      "Wall time: 17 s\n"
     ]
    }
   ],
   "source": [
    "%%time\n",
    "model = LogisticRegression(solver='lbfgs')\n",
    "paramCV(train_valid, model)"
   ]
  },
  {
   "cell_type": "code",
   "execution_count": 22,
   "metadata": {},
   "outputs": [
    {
     "data": {
      "application/vnd.jupyter.widget-view+json": {
       "model_id": "7c624b320a1d4c0a81315b3e9911fc9f",
       "version_major": 2,
       "version_minor": 0
      },
      "text/plain": [
       "HBox(children=(IntProgress(value=0, max=5), HTML(value='')))"
      ]
     },
     "metadata": {},
     "output_type": "display_data"
    },
    {
     "name": "stdout",
     "output_type": "stream",
     "text": [
      "Best F1: 0.725\n",
      "Wall time: 14 s\n"
     ]
    }
   ],
   "source": [
    "%%time\n",
    "model = LogisticRegression(solver='newton-cg')\n",
    "paramCV(train_valid, model)"
   ]
  },
  {
   "cell_type": "code",
   "execution_count": 23,
   "metadata": {},
   "outputs": [
    {
     "data": {
      "application/vnd.jupyter.widget-view+json": {
       "model_id": "c807d06a439e46f39ca87bf15fd8cbb3",
       "version_major": 2,
       "version_minor": 0
      },
      "text/plain": [
       "HBox(children=(IntProgress(value=0, max=5), HTML(value='')))"
      ]
     },
     "metadata": {},
     "output_type": "display_data"
    },
    {
     "name": "stdout",
     "output_type": "stream",
     "text": [
      "Best F1: 0.725\n",
      "Wall time: 7.33 s\n"
     ]
    }
   ],
   "source": [
    "%%time\n",
    "model = LogisticRegression(solver='liblinear')\n",
    "paramCV(train_valid, model)"
   ]
  },
  {
   "cell_type": "code",
   "execution_count": 24,
   "metadata": {},
   "outputs": [
    {
     "name": "stdout",
     "output_type": "stream",
     "text": [
      "\n"
     ]
    },
    {
     "data": {
      "application/vnd.jupyter.widget-view+json": {
       "model_id": "8cf2015d76e14e2cbd736b0625b0fbd2",
       "version_major": 2,
       "version_minor": 0
      },
      "text/plain": [
       "HBox(children=(IntProgress(value=0, max=5), HTML(value='')))"
      ]
     },
     "metadata": {},
     "output_type": "display_data"
    },
    {
     "name": "stdout",
     "output_type": "stream",
     "text": [
      "Best F1: 0.725\n",
      "Wall time: 9.82 s\n"
     ]
    }
   ],
   "source": [
    "%%time\n",
    "model = LogisticRegression(solver='sag')\n",
    "paramCV(train_valid, model)"
   ]
  },
  {
   "cell_type": "markdown",
   "metadata": {},
   "source": [
    "Все варианты дают одинаковый результат, но решатель 'liblinear' быстрее остальных. Будем использовать его."
   ]
  },
  {
   "cell_type": "markdown",
   "metadata": {},
   "source": [
    "Передаваемые модели данные содержат много парамеров, поэтому большое значение для логистической регрессии приобретает гиперпараметр С - сила регуляции. Проверим результат в зависимости от значения гиперпарамера С для разных способов балансировки."
   ]
  },
  {
   "cell_type": "code",
   "execution_count": 25,
   "metadata": {},
   "outputs": [
    {
     "data": {
      "application/vnd.jupyter.widget-view+json": {
       "model_id": "1d1f2e1ed81449768247fed2776bb7f0",
       "version_major": 2,
       "version_minor": 0
      },
      "text/plain": [
       "HBox(children=(IntProgress(value=0, max=30), HTML(value='')))"
      ]
     },
     "metadata": {},
     "output_type": "display_data"
    },
    {
     "data": {
      "image/png": "[encoded data removed]",
      "text/plain": [
       "<Figure size 720x288 with 1 Axes>"
      ]
     },
     "metadata": {
      "needs_background": "light"
     },
     "output_type": "display_data"
    },
    {
     "name": "stdout",
     "output_type": "stream",
     "text": [
      "Best F1: 0.773\n",
      "Best params: {'C': 9}\n",
      "Wall time: 1min 1s\n"
     ]
    }
   ],
   "source": [
    "%%time\n",
    "model = LogisticRegression(solver='liblinear')\n",
    "params = {'C': range(1,12,2)}\n",
    "paramCV(train_valid, model, params, 'LR unbalanced')"
   ]
  },
  {
   "cell_type": "code",
   "execution_count": 26,
   "metadata": {},
   "outputs": [
    {
     "data": {
      "application/vnd.jupyter.widget-view+json": {
       "model_id": "b6e8499669bd40e0a8e3b13ace98b4b3",
       "version_major": 2,
       "version_minor": 0
      },
      "text/plain": [
       "HBox(children=(IntProgress(value=0, max=30), HTML(value='')))"
      ]
     },
     "metadata": {},
     "output_type": "display_data"
    },
    {
     "data": {
      "image/png": "[encoded data removed]",
      "text/plain": [
       "<Figure size 720x288 with 1 Axes>"
      ]
     },
     "metadata": {
      "needs_background": "light"
     },
     "output_type": "display_data"
    },
    {
     "name": "stdout",
     "output_type": "stream",
     "text": [
      "Best F1: 0.762\n",
      "Best params: {'C': 7}\n",
      "Wall time: 1min 41s\n"
     ]
    }
   ],
   "source": [
    "%%time\n",
    "model = LogisticRegression(solver='liblinear', class_weight='balanced')\n",
    "params = {'C': range(1,12,2)}\n",
    "paramCV(train_valid, model, params, 'LR balanced')"
   ]
  },
  {
   "cell_type": "code",
   "execution_count": 27,
   "metadata": {},
   "outputs": [
    {
     "data": {
      "application/vnd.jupyter.widget-view+json": {
       "model_id": "ded6d8ff46d24244bb06a12b1776a7e1",
       "version_major": 2,
       "version_minor": 0
      },
      "text/plain": [
       "HBox(children=(IntProgress(value=0, max=30), HTML(value='')))"
      ]
     },
     "metadata": {},
     "output_type": "display_data"
    },
    {
     "data": {
      "image/png": "[encoded data removed]",
      "text/plain": [
       "<Figure size 720x288 with 1 Axes>"
      ]
     },
     "metadata": {
      "needs_background": "light"
     },
     "output_type": "display_data"
    },
    {
     "name": "stdout",
     "output_type": "stream",
     "text": [
      "Best F1: 0.757\n",
      "Best params: {'C': 5}\n",
      "Wall time: 3min 16s\n"
     ]
    }
   ],
   "source": [
    "%%time\n",
    "model = LogisticRegression(solver='liblinear')\n",
    "params = {'C': range(1,12,2)}\n",
    "paramCV(train_valid_upsampled, model, params, 'LR upsampled')"
   ]
  },
  {
   "cell_type": "code",
   "execution_count": 28,
   "metadata": {},
   "outputs": [
    {
     "data": {
      "application/vnd.jupyter.widget-view+json": {
       "model_id": "a72e4734dcce49c9a57897028775e271",
       "version_major": 2,
       "version_minor": 0
      },
      "text/plain": [
       "HBox(children=(IntProgress(value=0, max=30), HTML(value='')))"
      ]
     },
     "metadata": {},
     "output_type": "display_data"
    },
    {
     "data": {
      "image/png": "[encoded data removed]",
      "text/plain": [
       "<Figure size 720x288 with 1 Axes>"
      ]
     },
     "metadata": {
      "needs_background": "light"
     },
     "output_type": "display_data"
    },
    {
     "name": "stdout",
     "output_type": "stream",
     "text": [
      "Best F1: 0.675\n",
      "Best params: {'C': 3}\n",
      "Wall time: 11.2 s\n"
     ]
    }
   ],
   "source": [
    "%%time\n",
    "model = LogisticRegression(solver='liblinear')\n",
    "params = {'C': range(1,12,2)}\n",
    "paramCV(train_valid_downsampled, model, params, 'LR downsampled')"
   ]
  },
  {
   "cell_type": "markdown",
   "metadata": {},
   "source": [
    "Если сравнивать разные варианты баланисировки при значении С по умолчанию (1), то наблюдаем следующую картину. Внутренняя балансировка модели и увеличение выборки показывают примерно одинаковый результат, который лучше, чем у несбалансированной выборки. При этом балансировка требует дополнительного времени, в случае увеличения выборки - заметного.  \n",
    "Однако при ослаблении регуляризации (увеличении С) картина меняется. Лучший результат получается несбалансированой выборке: F1=0,771 при С=9, он уже удовлетворяет условию проекта. Внутренняя балансировка модели и увеличение выборки показали результат несколько хуже и при этом потребовали больше времени.  \n",
    "Уменьшенная выборка, как и ожидалоь, показала наихудший результат. В дальнейшем в проекте нет смысла ее рассматривать.  \n",
    "Таким образом, оптимальный с точки зрения точности и времени результат для логистической регрессии получается при несбалансированной выборке, решателе liblinear и значении С=9."
   ]
  },
  {
   "cell_type": "code",
   "execution_count": 29,
   "metadata": {},
   "outputs": [
    {
     "data": {
      "text/html": [
       "<div>\n",
       "<style scoped>\n",
       "    .dataframe tbody tr th:only-of-type {\n",
       "        vertical-align: middle;\n",
       "    }\n",
       "\n",
       "    .dataframe tbody tr th {\n",
       "        vertical-align: top;\n",
       "    }\n",
       "\n",
       "    .dataframe thead th {\n",
       "        text-align: right;\n",
       "    }\n",
       "</style>\n",
       "<table border=\"1\" class=\"dataframe\">\n",
       "  <thead>\n",
       "    <tr style=\"text-align: right;\">\n",
       "      <th></th>\n",
       "      <th>F1</th>\n",
       "    </tr>\n",
       "  </thead>\n",
       "  <tbody>\n",
       "    <tr>\n",
       "      <td>LR unbalanced</td>\n",
       "      <td>0.773</td>\n",
       "    </tr>\n",
       "    <tr>\n",
       "      <td>LR balanced</td>\n",
       "      <td>0.762</td>\n",
       "    </tr>\n",
       "    <tr>\n",
       "      <td>LR upsampled</td>\n",
       "      <td>0.757</td>\n",
       "    </tr>\n",
       "    <tr>\n",
       "      <td>LR downsampled</td>\n",
       "      <td>0.675</td>\n",
       "    </tr>\n",
       "  </tbody>\n",
       "</table>\n",
       "</div>"
      ],
      "text/plain": [
       "                   F1\n",
       "LR unbalanced   0.773\n",
       "LR balanced     0.762\n",
       "LR upsampled    0.757\n",
       "LR downsampled  0.675"
      ]
     },
     "execution_count": 29,
     "metadata": {},
     "output_type": "execute_result"
    }
   ],
   "source": [
    "result_table"
   ]
  },
  {
   "cell_type": "markdown",
   "metadata": {},
   "source": [
    "### 2.2 SGD"
   ]
  },
  {
   "cell_type": "code",
   "execution_count": 30,
   "metadata": {},
   "outputs": [
    {
     "data": {
      "application/vnd.jupyter.widget-view+json": {
       "model_id": "ef52e49b6edd46b788ed917681a1b2bf",
       "version_major": 2,
       "version_minor": 0
      },
      "text/plain": [
       "HBox(children=(IntProgress(value=0, max=45), HTML(value='')))"
      ]
     },
     "metadata": {},
     "output_type": "display_data"
    },
    {
     "data": {
      "image/png": "[encoded data removed]",
      "text/plain": [
       "<Figure size 720x288 with 1 Axes>"
      ]
     },
     "metadata": {
      "needs_background": "light"
     },
     "output_type": "display_data"
    },
    {
     "name": "stdout",
     "output_type": "stream",
     "text": [
      "Best F1: 0.78\n",
      "Best params: {'alpha': 4.9999999999999996e-06}\n",
      "Wall time: 17.4 s\n"
     ]
    }
   ],
   "source": [
    "%%time\n",
    "model = SGDClassifier(random_state=123)\n",
    "params = {'alpha': np.arange(0.000001, 0.00001, 0.000001)}\n",
    "paramCV(train_valid, model, params, 'SGD unbalanced')"
   ]
  },
  {
   "cell_type": "code",
   "execution_count": 31,
   "metadata": {},
   "outputs": [
    {
     "data": {
      "application/vnd.jupyter.widget-view+json": {
       "model_id": "c52f133011084d95902c57fd2f5ef7e8",
       "version_major": 2,
       "version_minor": 0
      },
      "text/plain": [
       "HBox(children=(IntProgress(value=0, max=45), HTML(value='')))"
      ]
     },
     "metadata": {},
     "output_type": "display_data"
    },
    {
     "data": {
      "image/png": "[encoded data removed]",
      "text/plain": [
       "<Figure size 720x288 with 1 Axes>"
      ]
     },
     "metadata": {
      "needs_background": "light"
     },
     "output_type": "display_data"
    },
    {
     "name": "stdout",
     "output_type": "stream",
     "text": [
      "Best F1: 0.747\n",
      "Best params: {'alpha': 4e-06}\n",
      "Wall time: 29.5 s\n"
     ]
    }
   ],
   "source": [
    "%%time\n",
    "model = SGDClassifier(class_weight='balanced', random_state=123)\n",
    "params = {'alpha': np.arange(0.000001, 0.00001, 0.000001)}\n",
    "paramCV(train_valid, model, params, 'SGD balanced')"
   ]
  },
  {
   "cell_type": "code",
   "execution_count": 32,
   "metadata": {},
   "outputs": [
    {
     "data": {
      "application/vnd.jupyter.widget-view+json": {
       "model_id": "b03307ec209b4385afedaa4f59200dc3",
       "version_major": 2,
       "version_minor": 0
      },
      "text/plain": [
       "HBox(children=(IntProgress(value=0, max=45), HTML(value='')))"
      ]
     },
     "metadata": {},
     "output_type": "display_data"
    },
    {
     "data": {
      "image/png": "[encoded data removed]",
      "text/plain": [
       "<Figure size 720x288 with 1 Axes>"
      ]
     },
     "metadata": {
      "needs_background": "light"
     },
     "output_type": "display_data"
    },
    {
     "name": "stdout",
     "output_type": "stream",
     "text": [
      "Best F1: 0.748\n",
      "Best params: {'alpha': 4e-06}\n",
      "Wall time: 31.6 s\n"
     ]
    }
   ],
   "source": [
    "%%time\n",
    "model = SGDClassifier(random_state=123)\n",
    "params = {'alpha': np.arange(0.000001, 0.00001, 0.000001)}\n",
    "paramCV(train_valid_upsampled, model, params, 'SGD upsampled')"
   ]
  },
  {
   "cell_type": "markdown",
   "metadata": {},
   "source": [
    "Лучший результат SGD составил 0.779, что чуть лучше, чем у логистической регрессии. Как и у логистической регрессии он был получен на несбалансирванной выборке при слабой регуляризации (alpha=0.00004)."
   ]
  },
  {
   "cell_type": "markdown",
   "metadata": {},
   "source": [
    "### 2.3 RidgeClassifier"
   ]
  },
  {
   "cell_type": "code",
   "execution_count": 33,
   "metadata": {},
   "outputs": [
    {
     "data": {
      "application/vnd.jupyter.widget-view+json": {
       "model_id": "f790697df5744bfea2d35a6eb3d514c1",
       "version_major": 2,
       "version_minor": 0
      },
      "text/plain": [
       "HBox(children=(IntProgress(value=0, max=25), HTML(value='')))"
      ]
     },
     "metadata": {},
     "output_type": "display_data"
    },
    {
     "data": {
      "image/png": "[encoded data removed]",
      "text/plain": [
       "<Figure size 720x288 with 1 Axes>"
      ]
     },
     "metadata": {
      "needs_background": "light"
     },
     "output_type": "display_data"
    },
    {
     "name": "stdout",
     "output_type": "stream",
     "text": [
      "Best F1: 0.706\n",
      "Best params: {'alpha': 0.4}\n",
      "Wall time: 1min 3s\n"
     ]
    }
   ],
   "source": [
    "%%time\n",
    "model = RidgeClassifier(random_state=123)\n",
    "params = {'alpha': np.arange(0.3, 0.8, 0.1)}\n",
    "paramCV(train_valid, model, params, 'Ridge unbalanced')"
   ]
  },
  {
   "cell_type": "markdown",
   "metadata": {},
   "source": [
    "Результат Ridge не дотягивает до логистической регрессии и требует больше времени."
   ]
  },
  {
   "cell_type": "markdown",
   "metadata": {},
   "source": [
    "#### 2.4 Дерево решений"
   ]
  },
  {
   "cell_type": "code",
   "execution_count": 34,
   "metadata": {
    "scrolled": false
   },
   "outputs": [
    {
     "data": {
      "application/vnd.jupyter.widget-view+json": {
       "model_id": "356128d92fbc4152939b2e02e4b5b9d9",
       "version_major": 2,
       "version_minor": 0
      },
      "text/plain": [
       "HBox(children=(IntProgress(value=0, max=15), HTML(value='')))"
      ]
     },
     "metadata": {},
     "output_type": "display_data"
    },
    {
     "data": {
      "image/png": "[encoded data removed]",
      "text/plain": [
       "<Figure size 720x288 with 1 Axes>"
      ]
     },
     "metadata": {
      "needs_background": "light"
     },
     "output_type": "display_data"
    },
    {
     "name": "stdout",
     "output_type": "stream",
     "text": [
      "Best F1: 0.703\n",
      "Best params: {'max_depth': 50}\n",
      "Wall time: 2min 39s\n"
     ]
    }
   ],
   "source": [
    "%%time\n",
    "model = DecisionTreeClassifier(random_state=123)\n",
    "params = {'max_depth': [10,20,50]}\n",
    "paramCV(train_valid, model, params, 'DecisionTree unbalanced')"
   ]
  },
  {
   "cell_type": "markdown",
   "metadata": {},
   "source": [
    "В прошлых проектах дереву решений было достаточно глубины 5-7, чтобы полностью обучиться, здесь же требуется гораздо более сложная модель. Даже при глубине дерева 100 модель не достигает результата линейной регрессии (F1=0.717) и при этом затрачивает на порядок больше времени. Дальнейшее увеличение глубины дерева и исследование случайного леса считаю нецелесообразным с точки зрения затрачиваемого времени."
   ]
  },
  {
   "cell_type": "markdown",
   "metadata": {},
   "source": [
    "## 3. Тестирование"
   ]
  },
  {
   "cell_type": "markdown",
   "metadata": {},
   "source": [
    "Посмотрим на таблицу с результатами"
   ]
  },
  {
   "cell_type": "code",
   "execution_count": 35,
   "metadata": {},
   "outputs": [
    {
     "data": {
      "text/html": [
       "<div>\n",
       "<style scoped>\n",
       "    .dataframe tbody tr th:only-of-type {\n",
       "        vertical-align: middle;\n",
       "    }\n",
       "\n",
       "    .dataframe tbody tr th {\n",
       "        vertical-align: top;\n",
       "    }\n",
       "\n",
       "    .dataframe thead th {\n",
       "        text-align: right;\n",
       "    }\n",
       "</style>\n",
       "<table border=\"1\" class=\"dataframe\">\n",
       "  <thead>\n",
       "    <tr style=\"text-align: right;\">\n",
       "      <th></th>\n",
       "      <th>F1</th>\n",
       "    </tr>\n",
       "  </thead>\n",
       "  <tbody>\n",
       "    <tr>\n",
       "      <td>LR unbalanced</td>\n",
       "      <td>0.773</td>\n",
       "    </tr>\n",
       "    <tr>\n",
       "      <td>LR balanced</td>\n",
       "      <td>0.762</td>\n",
       "    </tr>\n",
       "    <tr>\n",
       "      <td>LR upsampled</td>\n",
       "      <td>0.757</td>\n",
       "    </tr>\n",
       "    <tr>\n",
       "      <td>LR downsampled</td>\n",
       "      <td>0.675</td>\n",
       "    </tr>\n",
       "    <tr>\n",
       "      <td>SGD unbalanced</td>\n",
       "      <td>0.780</td>\n",
       "    </tr>\n",
       "    <tr>\n",
       "      <td>SGD balanced</td>\n",
       "      <td>0.747</td>\n",
       "    </tr>\n",
       "    <tr>\n",
       "      <td>SGD upsampled</td>\n",
       "      <td>0.748</td>\n",
       "    </tr>\n",
       "    <tr>\n",
       "      <td>Ridge unbalanced</td>\n",
       "      <td>0.706</td>\n",
       "    </tr>\n",
       "    <tr>\n",
       "      <td>DecisionTree unbalanced</td>\n",
       "      <td>0.703</td>\n",
       "    </tr>\n",
       "  </tbody>\n",
       "</table>\n",
       "</div>"
      ],
      "text/plain": [
       "                            F1\n",
       "LR unbalanced            0.773\n",
       "LR balanced              0.762\n",
       "LR upsampled             0.757\n",
       "LR downsampled           0.675\n",
       "SGD unbalanced           0.780\n",
       "SGD balanced             0.747\n",
       "SGD upsampled            0.748\n",
       "Ridge unbalanced         0.706\n",
       "DecisionTree unbalanced  0.703"
      ]
     },
     "execution_count": 35,
     "metadata": {},
     "output_type": "execute_result"
    }
   ],
   "source": [
    "result_table"
   ]
  },
  {
   "cell_type": "markdown",
   "metadata": {},
   "source": [
    "Лучший результат показала модель SGD на несбалансированной выборке при alpha=0.000004."
   ]
  },
  {
   "cell_type": "code",
   "execution_count": 36,
   "metadata": {},
   "outputs": [
    {
     "name": "stdout",
     "output_type": "stream",
     "text": [
      "train shape (127656, 139094) (127656,)\n",
      "test shape: (31915, 139094) (31915,)\n",
      "\n",
      "Final model f1 = 0.777\n",
      "[[28447   315]\n",
      " [  952  2201]]\n"
     ]
    }
   ],
   "source": [
    "# подготовка признаков обучающей выборки\n",
    "count_tf_idf = TfidfVectorizer(stop_words=stopwords)\n",
    "train_corpus = data_train['lemmatized'].values.astype('U')\n",
    "train_features = count_tf_idf.fit_transform(train_corpus)\n",
    "train_target = data_train['toxic']\n",
    "print('train shape', train_features.shape, train_target.shape)\n",
    "\n",
    "# подготовка признаков тестовой выборки\n",
    "test_corpus = data_test['lemmatized'].values.astype('U')\n",
    "test_features = count_tf_idf.transform(test_corpus)\n",
    "test_target = data_test['toxic']\n",
    "print('test shape:', test_features.shape, test_target.shape)\n",
    "\n",
    "model = SGDClassifier(alpha=0.000004, random_state=123)\n",
    "model.fit(train_features, train_target)\n",
    "test_predicted = model.predict(test_features)\n",
    "print('\\nFinal model f1 =', f1_score(test_target, test_predicted).round(3))\n",
    "print(confusion_matrix(test_target, test_predicted))"
   ]
  },
  {
   "cell_type": "markdown",
   "metadata": {},
   "source": [
    "Результат модели на тестовой выборке удовлетворяет требованиям задания (F1 > 0,75). Модель неплохо предсказывает оба типа комментариев, ошибки первого и второго рода встречаются редко.  \n",
    "Сравним результат с фиктивным классификатором"
   ]
  },
  {
   "cell_type": "code",
   "execution_count": 37,
   "metadata": {},
   "outputs": [
    {
     "name": "stdout",
     "output_type": "stream",
     "text": [
      "Dummy f1 = 0.105\n",
      "[[25814  2948]\n",
      " [ 2814   339]]\n"
     ]
    }
   ],
   "source": [
    "dummy = DummyClassifier(strategy='stratified')\n",
    "dummy.fit(train_features, train_target)\n",
    "dummy_predicted = dummy.predict(test_features)\n",
    "print('Dummy f1 =', f1_score(test_target, dummy_predicted).round(3))\n",
    "print(confusion_matrix(test_target, dummy_predicted))"
   ]
  },
  {
   "cell_type": "markdown",
   "metadata": {},
   "source": [
    "Модель превосходит фиктивный классификатор по всем показателям, что подтверждает ее адекватность."
   ]
  },
  {
   "cell_type": "markdown",
   "metadata": {},
   "source": [
    "## Выводы"
   ]
  },
  {
   "cell_type": "markdown",
   "metadata": {},
   "source": [
    "Работа с текстом требует создания большого количества признаков, что сильно повлияло на результаты исследования.  \n",
    "Линейные модели, обученные на признаках, составленных с использованием TF-IDF, позволили достигнуть требуемого результата при приемлемом затрачиваемом времени. При этом подбор регуляризации оказался важнее, чем балансировка выборки. Лучший результат был получен с помощью модели SGD на несбалансированной выборке при слабой регуляции (alpha=0.000004), для которой метрика F1 при кросс-валидации составила 0,78.  \n",
    "Деревянные модели для достижения хорошего результата требуют очень большой глубины, что делает их крайне медленными.  \n",
    "BERT в данной задаче не позволил достичь требуемого результата, хотя скорее всего дело не в самой модели, а в недостаточном опыте работы с ней.\n",
    "\n",
    "Выбранная модель SGD была проверена на тестовой выборке, составляющей 20% от исходного датасета. Было получено значение метрики F1 = 0,78, что удовлетворяет условиям задания. Адекватность модели была подтверждена сравнением с фиктивным классификатором.\n",
    "\n",
    "Можно выделить следующие направления для развития:\n",
    "- более качественная лемматизация\n",
    "- алгоритм downsampling, формирующий правильное соотношение обучающей и тестовой (валидационной) выборок \n",
    "- использование нейросетей"
   ]
  },
  {
   "cell_type": "code",
   "execution_count": null,
   "metadata": {},
   "outputs": [],
   "source": []
  }
 ],
 "metadata": {
  "kernelspec": {
   "display_name": "Python 3",
   "language": "python",
   "name": "python3"
  },
  "language_info": {
   "codemirror_mode": {
    "name": "ipython",
    "version": 3
   },
   "file_extension": ".py",
   "mimetype": "text/x-python",
   "name": "python",
   "nbconvert_exporter": "python",
   "pygments_lexer": "ipython3",
   "version": "3.7.4"
  }
 },
 "nbformat": 4,
 "nbformat_minor": 2
}
